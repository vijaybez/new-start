{
 "cells": [
  {
   "cell_type": "code",
   "execution_count": 26,
   "metadata": {
    "collapsed": true
   },
   "outputs": [],
   "source": [
    "import json\n",
    "import pandas as pd\n",
    "import requests as req\n",
    "import sqlite3\n",
    "from datetime import date,datetime,timedelta\n",
    "import numpy as np\n",
    "import multiprocessing\n",
    "import concurrent.futures\n",
    "\n",
    "\n",
    "txt = req.get('https://health.data.ny.gov/api/views/xdss-u53e/rows.json?accessType=DOWNLOAD')\n",
    "json_data = txt.json()\n",
    "\n",
    "columns =[]\n",
    "datatype=[]\n",
    "for element in json_data['meta']['view']['columns']:\n",
    "    columns.append(element['name'])\n",
    "    datatype.append(element['dataTypeName'])\n",
    "\n",
    "data = pd.DataFrame(json_data['data'],columns = columns)\n",
    "\n",
    "\n",
    "\n",
    "\n",
    "def replace_special(str):\n",
    "    str = str.replace('.','_')\n",
    "    str = str.replace(' ','_')\n",
    "    return(str)\n",
    "\n",
    "def create_table(table_name):\n",
    "    sql_create =f\"CREATE TABLE {table_name}  (test_date DATE PRIMARY KEY NOT NULL, new_positives int NULL, cum_nbr_positives INT NULL,nbr_tests_performed INT NULL, cum_nbr_tests_performed INT NULL, load_date date );\"\n",
    "    conn.executescript(sql_create)\n",
    "    return(f\"{table_name} Table created successfully\")\n",
    "\n",
    "def insert_data(a,b,c,d,e,f):\n",
    "    today_time = date.today()  \n",
    "    sql_insert =f\"INSERT INTO {a} (test_date, new_positives, cum_nbr_positives,nbr_tests_performed, cum_nbr_tests_performed, load_date)    VALUES ('{b}',{c} , {d}, {e},{f},'{today_time}' )\"\n",
    "    conn.execute(sql_insert)\n",
    "\n",
    "def drop_table(table_name):\n",
    "    sql_delete_all = f'delete from {table_name}'\n",
    "    sql_drop = f\"drop table {table_name}\"\n",
    "    conn.execute(sql_delete_all) \n",
    "    conn.execute(sql_drop)    \n",
    "    \n",
    "    \n",
    "try:\n",
    "    conn = sqlite3.connect('covid_virus_data.db')\n",
    "except Error as e:\n",
    "        print(e)\n",
    "\n",
    "#get unique list of county names from the data to see if any new countes were added to the data                    \n",
    "county_name = list(data['County'].str.lower().unique())        \n",
    "county_name = list(map(replace_special,county_name))\n",
    "\n",
    "\n",
    "new_sql=\"select name from sqlite_master where type = 'table'\"\n",
    "\n",
    "cursor1 = conn.execute(new_sql)\n",
    "tables=[]\n",
    "for row in cursor1:\n",
    "    tables.append(row[0])\n",
    "\n",
    "\n",
    "new_tables =list(set(county_name)-set(tables))\n",
    "\n",
    "if len(new_tables)>0:\n",
    "    for table in new_tables:\n",
    "        create_table(table)\n",
    "\n",
    "     "
   ]
  },
  {
   "cell_type": "code",
   "execution_count": 27,
   "metadata": {},
   "outputs": [
    {
     "name": "stderr",
     "output_type": "stream",
     "text": [
      "C:\\Users\\sharanya\\Anaconda3\\lib\\site-packages\\ipykernel_launcher.py:5: SettingWithCopyWarning: \n",
      "A value is trying to be set on a copy of a slice from a DataFrame.\n",
      "Try using .loc[row_indexer,col_indexer] = value instead\n",
      "\n",
      "See the caveats in the documentation: https://pandas.pydata.org/pandas-docs/stable/user_guide/indexing.html#returning-a-view-versus-a-copy\n",
      "  \"\"\"\n",
      "C:\\Users\\sharanya\\Anaconda3\\lib\\site-packages\\ipykernel_launcher.py:9: SettingWithCopyWarning: \n",
      "A value is trying to be set on a copy of a slice from a DataFrame.\n",
      "Try using .loc[row_indexer,col_indexer] = value instead\n",
      "\n",
      "See the caveats in the documentation: https://pandas.pydata.org/pandas-docs/stable/user_guide/indexing.html#returning-a-view-versus-a-copy\n",
      "  if __name__ == '__main__':\n"
     ]
    }
   ],
   "source": [
    "\n",
    "new_data = data[['County','Test Date','New Positives','Cumulative Number of Positives','Total Number of Tests Performed','Cumulative Number of Tests Performed']]\n",
    "\n",
    "#craete a new column called Table_name to identify which table the specifc row would be inserted into\n",
    "new_data['table_name']=new_data.apply(lambda row:replace_special(row['County']).lower(),axis=1)\n",
    "\n",
    "#as infer_dtypes couldn't figure out all the datatypes. Enforce the datatype of each column in the DF\n",
    "new_data.astype({'County':'str', 'New Positives': 'int32', 'Cumulative Number of Positives': 'int32','Total Number of Tests Performed':'int32', 'Cumulative Number of Tests Performed':'int32'}).dtypes\n",
    "new_data['Test Date'] = pd.to_datetime(new_data['Test Date'])\n",
    "\n",
    "#calculate yesterday's date. this is useful for incremental loads\n",
    "yesterday = date.today() - timedelta(1)\n",
    "\n",
    "#identify records from main dataframe for incremental loads\n",
    "new_data_yesterday = new_data[~new_data['table_name'].isin(new_tables)]\n",
    "new_data_yesterday=new_data_yesterday.loc[new_data_yesterday['Test Date']==str(yesterday)]\n",
    "\n",
    "#idenify records for new counties or for first time loads\n",
    "new_county_data = new_data[new_data['table_name'].isin(new_tables)]"
   ]
  },
  {
   "cell_type": "code",
   "execution_count": 28,
   "metadata": {},
   "outputs": [],
   "source": [
    "#full data load for first time or if new counties are added\n",
    "num_processes = multiprocessing.cpu_count()\n",
    "with concurrent.futures.ProcessPoolExecutor(num_processes) as pool:\n",
    "    pool.map(insert_data,new_county_data['table_name'],new_county_data['Test Date'],new_county_data['New Positives'],\n",
    "             new_county_data['Cumulative Number of Positives'],new_county_data['Total Number of Tests Performed'],new_county_data['Cumulative Number of Tests Performed'])\n",
    "    \n",
    "# for index, row in new_county_data.iterrows():\n",
    "#     insert_data(row)\n",
    "conn.commit()\n",
    "\n",
    "#fincremental load with yesterday's data\n",
    "with concurrent.futures.ProcessPoolExecutor(num_processes) as pool:\n",
    "    pool.map(insert_data,new_data_yesterday['table_name'],new_data_yesterday['Test Date'],new_data_yesterday['New Positives'],\n",
    "             new_data_yesterday['Cumulative Number of Positives'],new_data_yesterday['Total Number of Tests Performed'],new_data_yesterday['Cumulative Number of Tests Performed'])\n",
    "\n",
    "\n",
    "# for index, row in new_data_yesterday.iterrows():\n",
    "#     insert_data(row)\n",
    "# conn.commit()\n"
   ]
  },
  {
   "cell_type": "markdown",
   "metadata": {},
   "source": [
    "#### Testing"
   ]
  },
  {
   "cell_type": "code",
   "execution_count": 30,
   "metadata": {},
   "outputs": [],
   "source": [
    "abc = conn.execute(\"select * from jefferson\")\n",
    "for row in abc:\n",
    "    print(row)"
   ]
  },
  {
   "cell_type": "code",
   "execution_count": 7,
   "metadata": {},
   "outputs": [],
   "source": [
    "for i in tables:\n",
    "    drop_table(i)\n",
    "conn.commit()"
   ]
  },
  {
   "cell_type": "code",
   "execution_count": 11,
   "metadata": {},
   "outputs": [
    {
     "name": "stdout",
     "output_type": "stream",
     "text": [
      "['jefferson', 'schoharie', 'lewis', 'richmond', 'greene', 'washington', 'rensselaer', 'clinton', 'new_york', 'columbia', 'putnam', 'ontario', 'erie', 'chenango', 'ulster', 'schuyler', 'yates', 'westchester', 'montgomery', 'orleans', 'saratoga', 'livingston', 'rockland', 'suffolk', 'tompkins', 'seneca', 'chautauqua', 'chemung', 'niagara', 'albany', 'cayuga', 'st__lawrence', 'madison', 'franklin', 'delaware', 'allegany', 'steuben', 'oneida', 'essex', 'schenectady', 'tioga', 'orange', 'queens', 'cortland', 'sullivan', 'cattaraugus', 'hamilton', 'genesee', 'onondaga', 'warren', 'wayne', 'monroe', 'broome', 'fulton', 'dutchess', 'kings', 'otsego', 'nassau', 'wyoming', 'bronx', 'herkimer', 'oswego']\n"
     ]
    }
   ],
   "source": [
    "print(new_tables)"
   ]
  },
  {
   "cell_type": "code",
   "execution_count": 15,
   "metadata": {},
   "outputs": [
    {
     "data": {
      "text/plain": [
       "0"
      ]
     },
     "execution_count": 15,
     "metadata": {},
     "output_type": "execute_result"
    }
   ],
   "source": [
    "len(new_data_yesterday)"
   ]
  },
  {
   "cell_type": "code",
   "execution_count": 19,
   "metadata": {},
   "outputs": [
    {
     "data": {
      "text/html": [
       "<div>\n",
       "<style scoped>\n",
       "    .dataframe tbody tr th:only-of-type {\n",
       "        vertical-align: middle;\n",
       "    }\n",
       "\n",
       "    .dataframe tbody tr th {\n",
       "        vertical-align: top;\n",
       "    }\n",
       "\n",
       "    .dataframe thead th {\n",
       "        text-align: right;\n",
       "    }\n",
       "</style>\n",
       "<table border=\"1\" class=\"dataframe\">\n",
       "  <thead>\n",
       "    <tr style=\"text-align: right;\">\n",
       "      <th></th>\n",
       "      <th>County</th>\n",
       "      <th>Test Date</th>\n",
       "      <th>New Positives</th>\n",
       "      <th>Cumulative Number of Positives</th>\n",
       "      <th>Total Number of Tests Performed</th>\n",
       "      <th>Cumulative Number of Tests Performed</th>\n",
       "      <th>table_name</th>\n",
       "    </tr>\n",
       "  </thead>\n",
       "  <tbody>\n",
       "    <tr>\n",
       "      <th>356</th>\n",
       "      <td>Albany</td>\n",
       "      <td>2021-02-20</td>\n",
       "      <td>56</td>\n",
       "      <td>20392</td>\n",
       "      <td>3727</td>\n",
       "      <td>492881</td>\n",
       "      <td>albany</td>\n",
       "    </tr>\n",
       "    <tr>\n",
       "      <th>713</th>\n",
       "      <td>Allegany</td>\n",
       "      <td>2021-02-20</td>\n",
       "      <td>7</td>\n",
       "      <td>2839</td>\n",
       "      <td>1989</td>\n",
       "      <td>79998</td>\n",
       "      <td>allegany</td>\n",
       "    </tr>\n",
       "    <tr>\n",
       "      <th>1070</th>\n",
       "      <td>Bronx</td>\n",
       "      <td>2021-02-20</td>\n",
       "      <td>650</td>\n",
       "      <td>132881</td>\n",
       "      <td>10965</td>\n",
       "      <td>2376255</td>\n",
       "      <td>bronx</td>\n",
       "    </tr>\n",
       "    <tr>\n",
       "      <th>1427</th>\n",
       "      <td>Broome</td>\n",
       "      <td>2021-02-20</td>\n",
       "      <td>83</td>\n",
       "      <td>14228</td>\n",
       "      <td>3671</td>\n",
       "      <td>376050</td>\n",
       "      <td>broome</td>\n",
       "    </tr>\n",
       "    <tr>\n",
       "      <th>1784</th>\n",
       "      <td>Cattaraugus</td>\n",
       "      <td>2021-02-20</td>\n",
       "      <td>12</td>\n",
       "      <td>4281</td>\n",
       "      <td>331</td>\n",
       "      <td>108971</td>\n",
       "      <td>cattaraugus</td>\n",
       "    </tr>\n",
       "  </tbody>\n",
       "</table>\n",
       "</div>"
      ],
      "text/plain": [
       "           County  Test Date New Positives Cumulative Number of Positives  \\\n",
       "356        Albany 2021-02-20            56                          20392   \n",
       "713      Allegany 2021-02-20             7                           2839   \n",
       "1070        Bronx 2021-02-20           650                         132881   \n",
       "1427       Broome 2021-02-20            83                          14228   \n",
       "1784  Cattaraugus 2021-02-20            12                           4281   \n",
       "\n",
       "     Total Number of Tests Performed Cumulative Number of Tests Performed  \\\n",
       "356                             3727                               492881   \n",
       "713                             1989                                79998   \n",
       "1070                           10965                              2376255   \n",
       "1427                            3671                               376050   \n",
       "1784                             331                               108971   \n",
       "\n",
       "       table_name  \n",
       "356        albany  \n",
       "713      allegany  \n",
       "1070        bronx  \n",
       "1427       broome  \n",
       "1784  cattaraugus  "
      ]
     },
     "execution_count": 19,
     "metadata": {},
     "output_type": "execute_result"
    }
   ],
   "source": [
    "new_data_yesterday.head()"
   ]
  },
  {
   "cell_type": "code",
   "execution_count": null,
   "metadata": {
    "collapsed": true
   },
   "outputs": [],
   "source": []
  }
 ],
 "metadata": {
  "kernelspec": {
   "display_name": "Python 3",
   "language": "python",
   "name": "python3"
  },
  "language_info": {
   "codemirror_mode": {
    "name": "ipython",
    "version": 3
   },
   "file_extension": ".py",
   "mimetype": "text/x-python",
   "name": "python",
   "nbconvert_exporter": "python",
   "pygments_lexer": "ipython3",
   "version": "3.6.1"
  }
 },
 "nbformat": 4,
 "nbformat_minor": 2
}
