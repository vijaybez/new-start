{
  "nbformat": 4,
  "nbformat_minor": 0,
  "metadata": {
    "colab": {
      "name": "Titanic Data Analysis.ipynb",
      "provenance": [],
      "collapsed_sections": []
    },
    "kernelspec": {
      "name": "python3",
      "display_name": "Python 3"
    }
  },
  "cells": [
    {
      "cell_type": "code",
      "metadata": {
        "id": "cR6D3MsCayOZ"
      },
      "source": [
        "import pandas as pd\r\n",
        "titanic = pd.read_csv('https://raw.githubusercontent.com/vijaybez/new-start/titanic-csv/datasets/titanic.csv')"
      ],
      "execution_count": 1,
      "outputs": []
    },
    {
      "cell_type": "code",
      "metadata": {
        "colab": {
          "base_uri": "https://localhost:8080/"
        },
        "id": "3gQGxl9kdKEA",
        "outputId": "a98549f4-6733-46d3-da2b-8f01ddd9ed6a"
      },
      "source": [
        "#treat the data for mising null values. In this case, we cannot fill in missing values as they are categorical values without any parameters influencing them..\r\n",
        "#so remmoving records without Age and Embarked data\r\n",
        "titanic_age=titanic[pd.notnull(titanic['Age'])]\r\n",
        "titatinc_age_emabark =titanic_age[pd.notnull(titanic['Embarked'])]\r\n",
        "\r\n",
        "#Create a dataframe with group by Gender\r\n",
        "gender_data = titatinc_age_emabark.groupby('Sex')\r\n",
        "gender_mean_data=gender_data.mean()\r\n",
        "print(gender_mean_data[['Survived','Pclass','Age','SibSp','Parch','Fare']])\r\n",
        "\r\n",
        "#a value to sum up for every passenger. Could be done using count passenger ID as well\r\n",
        "titatinc_age_emabark['count_pass']=1\r\n",
        "gender_df = titatinc_age_emabark.groupby('Sex',as_index=False).agg({'Survived':sum,'count_pass':sum})"
      ],
      "execution_count": 2,
      "outputs": [
        {
          "output_type": "stream",
          "text": [
            "        Survived    Pclass        Age     SibSp     Parch       Fare\n",
            "Sex                                                                 \n",
            "female  0.752896  2.073359  27.745174  0.644788  0.714286  47.332433\n",
            "male    0.205298  2.335541  30.726645  0.439294  0.271523  27.268836\n"
          ],
          "name": "stdout"
        },
        {
          "output_type": "stream",
          "text": [
            "/usr/local/lib/python3.6/dist-packages/ipykernel_launcher.py:4: UserWarning: Boolean Series key will be reindexed to match DataFrame index.\n",
            "  after removing the cwd from sys.path.\n",
            "/usr/local/lib/python3.6/dist-packages/ipykernel_launcher.py:12: SettingWithCopyWarning: \n",
            "A value is trying to be set on a copy of a slice from a DataFrame.\n",
            "Try using .loc[row_indexer,col_indexer] = value instead\n",
            "\n",
            "See the caveats in the documentation: https://pandas.pydata.org/pandas-docs/stable/user_guide/indexing.html#returning-a-view-versus-a-copy\n",
            "  if sys.path[0] == '':\n"
          ],
          "name": "stderr"
        }
      ]
    },
    {
      "cell_type": "code",
      "metadata": {
        "colab": {
          "base_uri": "https://localhost:8080/",
          "height": 110
        },
        "id": "F-CyOvBTiphK",
        "outputId": "9f736c6d-ef5e-478d-ba81-122b0248ca4a"
      },
      "source": [
        "gender_df.head()"
      ],
      "execution_count": 3,
      "outputs": [
        {
          "output_type": "execute_result",
          "data": {
            "text/html": [
              "<div>\n",
              "<style scoped>\n",
              "    .dataframe tbody tr th:only-of-type {\n",
              "        vertical-align: middle;\n",
              "    }\n",
              "\n",
              "    .dataframe tbody tr th {\n",
              "        vertical-align: top;\n",
              "    }\n",
              "\n",
              "    .dataframe thead th {\n",
              "        text-align: right;\n",
              "    }\n",
              "</style>\n",
              "<table border=\"1\" class=\"dataframe\">\n",
              "  <thead>\n",
              "    <tr style=\"text-align: right;\">\n",
              "      <th></th>\n",
              "      <th>Sex</th>\n",
              "      <th>Survived</th>\n",
              "      <th>count_pass</th>\n",
              "    </tr>\n",
              "  </thead>\n",
              "  <tbody>\n",
              "    <tr>\n",
              "      <th>0</th>\n",
              "      <td>female</td>\n",
              "      <td>195</td>\n",
              "      <td>259</td>\n",
              "    </tr>\n",
              "    <tr>\n",
              "      <th>1</th>\n",
              "      <td>male</td>\n",
              "      <td>93</td>\n",
              "      <td>453</td>\n",
              "    </tr>\n",
              "  </tbody>\n",
              "</table>\n",
              "</div>"
            ],
            "text/plain": [
              "      Sex  Survived  count_pass\n",
              "0  female       195         259\n",
              "1    male        93         453"
            ]
          },
          "metadata": {
            "tags": []
          },
          "execution_count": 3
        }
      ]
    },
    {
      "cell_type": "code",
      "metadata": {
        "colab": {
          "base_uri": "https://localhost:8080/",
          "height": 339
        },
        "id": "8Xm2hAKedeSo",
        "outputId": "5154b929-2446-4802-c5b6-629d403d08ae"
      },
      "source": [
        "#Let's see if Gender has any impact on Survival Rate. A simple Bar Graph can explain this more\r\n",
        "import matplotlib.pyplot as plt\r\n",
        "gender_df.plot.bar()\r\n",
        "plt.title('Impact of Gender on Survival')\r\n",
        "plt.xlabel('Gender')\r\n",
        "plt.ylabel('# Of Survived')\r\n",
        "plt.xticks(range(len(gender_df)),['Female','Male'])\r\n",
        "\r\n",
        "def create_value_labels(list_data,decimals,x_adjust,y_adjust):\r\n",
        "  for x,y in enumerate(list_data):\r\n",
        "    plt.text(x+x_adjust,y+y_adjust,round(list_data[x],decimals))\r\n",
        "\r\n",
        "create_value_labels(list(gender_df['Survived']),0,-0.2,-50)\r\n",
        "create_value_labels(list(gender_df['count_pass']),0,0.05,-50)\r\n",
        "\r\n",
        "plt.show\r\n",
        "#in the below bar graph we can see that Female Passengers had a much higher chance of survival than Male Passengers. Lets get this in Percentage basis.\r\n"
      ],
      "execution_count": 4,
      "outputs": [
        {
          "output_type": "execute_result",
          "data": {
            "text/plain": [
              "<function matplotlib.pyplot.show>"
            ]
          },
          "metadata": {
            "tags": []
          },
          "execution_count": 4
        },
        {
          "output_type": "display_data",
          "data": {
            "image/png": "[encoded data removed]",
            "text/plain": [
              "<Figure size 432x288 with 1 Axes>"
            ]
          },
          "metadata": {
            "tags": [],
            "needs_background": "light"
          }
        }
      ]
    },
    {
      "cell_type": "code",
      "metadata": {
        "colab": {
          "base_uri": "https://localhost:8080/",
          "height": 110
        },
        "id": "jWzE3wdXoB0D",
        "outputId": "0d83c704-8e53-476c-dce4-be0ba6e5861e"
      },
      "source": [
        "#Group by survived column to see the effect of each parameter in the dataframe\r\n",
        "#looks like passengers with parents and children were preferred and the higher Fare meant higher changes of survival but the \r\n",
        "#Passenger Class was only at 1.9 compared to 2.5 for passengers that haven't survived but as this is a mean it probably doesn't explain much\r\n",
        "\r\n",
        "survive_data = titatinc_age_emabark.groupby('Survived',as_index=False)\r\n",
        "survive_mean_data=survive_data.mean()\r\n",
        "survive_mean_data.head()"
      ],
      "execution_count": 5,
      "outputs": [
        {
          "output_type": "execute_result",
          "data": {
            "text/html": [
              "<div>\n",
              "<style scoped>\n",
              "    .dataframe tbody tr th:only-of-type {\n",
              "        vertical-align: middle;\n",
              "    }\n",
              "\n",
              "    .dataframe tbody tr th {\n",
              "        vertical-align: top;\n",
              "    }\n",
              "\n",
              "    .dataframe thead th {\n",
              "        text-align: right;\n",
              "    }\n",
              "</style>\n",
              "<table border=\"1\" class=\"dataframe\">\n",
              "  <thead>\n",
              "    <tr style=\"text-align: right;\">\n",
              "      <th></th>\n",
              "      <th>Survived</th>\n",
              "      <th>PassengerId</th>\n",
              "      <th>Pclass</th>\n",
              "      <th>Age</th>\n",
              "      <th>SibSp</th>\n",
              "      <th>Parch</th>\n",
              "      <th>Fare</th>\n",
              "      <th>count_pass</th>\n",
              "    </tr>\n",
              "  </thead>\n",
              "  <tbody>\n",
              "    <tr>\n",
              "      <th>0</th>\n",
              "      <td>0</td>\n",
              "      <td>442.299528</td>\n",
              "      <td>2.485849</td>\n",
              "      <td>30.626179</td>\n",
              "      <td>0.525943</td>\n",
              "      <td>0.365566</td>\n",
              "      <td>22.965456</td>\n",
              "      <td>1.0</td>\n",
              "    </tr>\n",
              "    <tr>\n",
              "      <th>1</th>\n",
              "      <td>1</td>\n",
              "      <td>457.850694</td>\n",
              "      <td>1.878472</td>\n",
              "      <td>28.193299</td>\n",
              "      <td>0.496528</td>\n",
              "      <td>0.531250</td>\n",
              "      <td>51.647672</td>\n",
              "      <td>1.0</td>\n",
              "    </tr>\n",
              "  </tbody>\n",
              "</table>\n",
              "</div>"
            ],
            "text/plain": [
              "   Survived  PassengerId    Pclass  ...     Parch       Fare  count_pass\n",
              "0         0   442.299528  2.485849  ...  0.365566  22.965456         1.0\n",
              "1         1   457.850694  1.878472  ...  0.531250  51.647672         1.0\n",
              "\n",
              "[2 rows x 8 columns]"
            ]
          },
          "metadata": {
            "tags": []
          },
          "execution_count": 5
        }
      ]
    },
    {
      "cell_type": "code",
      "metadata": {
        "colab": {
          "base_uri": "https://localhost:8080/",
          "height": 727
        },
        "id": "kn3CLz59p8cU",
        "outputId": "eb650387-4e0a-4bd0-8fa0-3a7aa0868c06"
      },
      "source": [
        "#Let's see if Age has played a role in the survival rate. Were Children preferred over adults?\r\n",
        "titatinc_age_emabark.loc[titatinc_age_emabark['Age']>=18,'adult']=1\r\n",
        "titatinc_age_emabark.loc[titatinc_age_emabark['Age']<18,'adult']=0\r\n",
        "\r\n",
        "titatinc_age_emabark.head(100)"
      ],
      "execution_count": 6,
      "outputs": [
        {
          "output_type": "stream",
          "text": [
            "/usr/local/lib/python3.6/dist-packages/pandas/core/indexing.py:1596: SettingWithCopyWarning: \n",
            "A value is trying to be set on a copy of a slice from a DataFrame.\n",
            "Try using .loc[row_indexer,col_indexer] = value instead\n",
            "\n",
            "See the caveats in the documentation: https://pandas.pydata.org/pandas-docs/stable/user_guide/indexing.html#returning-a-view-versus-a-copy\n",
            "  self.obj[key] = _infer_fill_value(value)\n",
            "/usr/local/lib/python3.6/dist-packages/pandas/core/indexing.py:1763: SettingWithCopyWarning: \n",
            "A value is trying to be set on a copy of a slice from a DataFrame.\n",
            "Try using .loc[row_indexer,col_indexer] = value instead\n",
            "\n",
            "See the caveats in the documentation: https://pandas.pydata.org/pandas-docs/stable/user_guide/indexing.html#returning-a-view-versus-a-copy\n",
            "  isetter(loc, value)\n",
            "/usr/local/lib/python3.6/dist-packages/pandas/core/indexing.py:1763: SettingWithCopyWarning: \n",
            "A value is trying to be set on a copy of a slice from a DataFrame.\n",
            "Try using .loc[row_indexer,col_indexer] = value instead\n",
            "\n",
            "See the caveats in the documentation: https://pandas.pydata.org/pandas-docs/stable/user_guide/indexing.html#returning-a-view-versus-a-copy\n",
            "  isetter(loc, value)\n"
          ],
          "name": "stderr"
        },
        {
          "output_type": "execute_result",
          "data": {
            "text/html": [
              "<div>\n",
              "<style scoped>\n",
              "    .dataframe tbody tr th:only-of-type {\n",
              "        vertical-align: middle;\n",
              "    }\n",
              "\n",
              "    .dataframe tbody tr th {\n",
              "        vertical-align: top;\n",
              "    }\n",
              "\n",
              "    .dataframe thead th {\n",
              "        text-align: right;\n",
              "    }\n",
              "</style>\n",
              "<table border=\"1\" class=\"dataframe\">\n",
              "  <thead>\n",
              "    <tr style=\"text-align: right;\">\n",
              "      <th></th>\n",
              "      <th>PassengerId</th>\n",
              "      <th>Survived</th>\n",
              "      <th>Pclass</th>\n",
              "      <th>Name</th>\n",
              "      <th>Sex</th>\n",
              "      <th>Age</th>\n",
              "      <th>SibSp</th>\n",
              "      <th>Parch</th>\n",
              "      <th>Ticket</th>\n",
              "      <th>Fare</th>\n",
              "      <th>Cabin</th>\n",
              "      <th>Embarked</th>\n",
              "      <th>count_pass</th>\n",
              "      <th>adult</th>\n",
              "    </tr>\n",
              "  </thead>\n",
              "  <tbody>\n",
              "    <tr>\n",
              "      <th>0</th>\n",
              "      <td>1</td>\n",
              "      <td>0</td>\n",
              "      <td>3</td>\n",
              "      <td>Braund, Mr. Owen Harris</td>\n",
              "      <td>male</td>\n",
              "      <td>22.0</td>\n",
              "      <td>1</td>\n",
              "      <td>0</td>\n",
              "      <td>A/5 21171</td>\n",
              "      <td>7.2500</td>\n",
              "      <td>NaN</td>\n",
              "      <td>S</td>\n",
              "      <td>1</td>\n",
              "      <td>1.0</td>\n",
              "    </tr>\n",
              "    <tr>\n",
              "      <th>1</th>\n",
              "      <td>2</td>\n",
              "      <td>1</td>\n",
              "      <td>1</td>\n",
              "      <td>Cumings, Mrs. John Bradley (Florence Briggs Th...</td>\n",
              "      <td>female</td>\n",
              "      <td>38.0</td>\n",
              "      <td>1</td>\n",
              "      <td>0</td>\n",
              "      <td>PC 17599</td>\n",
              "      <td>71.2833</td>\n",
              "      <td>C85</td>\n",
              "      <td>C</td>\n",
              "      <td>1</td>\n",
              "      <td>1.0</td>\n",
              "    </tr>\n",
              "    <tr>\n",
              "      <th>2</th>\n",
              "      <td>3</td>\n",
              "      <td>1</td>\n",
              "      <td>3</td>\n",
              "      <td>Heikkinen, Miss. Laina</td>\n",
              "      <td>female</td>\n",
              "      <td>26.0</td>\n",
              "      <td>0</td>\n",
              "      <td>0</td>\n",
              "      <td>STON/O2. 3101282</td>\n",
              "      <td>7.9250</td>\n",
              "      <td>NaN</td>\n",
              "      <td>S</td>\n",
              "      <td>1</td>\n",
              "      <td>1.0</td>\n",
              "    </tr>\n",
              "    <tr>\n",
              "      <th>3</th>\n",
              "      <td>4</td>\n",
              "      <td>1</td>\n",
              "      <td>1</td>\n",
              "      <td>Futrelle, Mrs. Jacques Heath (Lily May Peel)</td>\n",
              "      <td>female</td>\n",
              "      <td>35.0</td>\n",
              "      <td>1</td>\n",
              "      <td>0</td>\n",
              "      <td>113803</td>\n",
              "      <td>53.1000</td>\n",
              "      <td>C123</td>\n",
              "      <td>S</td>\n",
              "      <td>1</td>\n",
              "      <td>1.0</td>\n",
              "    </tr>\n",
              "    <tr>\n",
              "      <th>4</th>\n",
              "      <td>5</td>\n",
              "      <td>0</td>\n",
              "      <td>3</td>\n",
              "      <td>Allen, Mr. William Henry</td>\n",
              "      <td>male</td>\n",
              "      <td>35.0</td>\n",
              "      <td>0</td>\n",
              "      <td>0</td>\n",
              "      <td>373450</td>\n",
              "      <td>8.0500</td>\n",
              "      <td>NaN</td>\n",
              "      <td>S</td>\n",
              "      <td>1</td>\n",
              "      <td>1.0</td>\n",
              "    </tr>\n",
              "    <tr>\n",
              "      <th>...</th>\n",
              "      <td>...</td>\n",
              "      <td>...</td>\n",
              "      <td>...</td>\n",
              "      <td>...</td>\n",
              "      <td>...</td>\n",
              "      <td>...</td>\n",
              "      <td>...</td>\n",
              "      <td>...</td>\n",
              "      <td>...</td>\n",
              "      <td>...</td>\n",
              "      <td>...</td>\n",
              "      <td>...</td>\n",
              "      <td>...</td>\n",
              "      <td>...</td>\n",
              "    </tr>\n",
              "    <tr>\n",
              "      <th>122</th>\n",
              "      <td>123</td>\n",
              "      <td>0</td>\n",
              "      <td>2</td>\n",
              "      <td>Nasser, Mr. Nicholas</td>\n",
              "      <td>male</td>\n",
              "      <td>32.5</td>\n",
              "      <td>1</td>\n",
              "      <td>0</td>\n",
              "      <td>237736</td>\n",
              "      <td>30.0708</td>\n",
              "      <td>NaN</td>\n",
              "      <td>C</td>\n",
              "      <td>1</td>\n",
              "      <td>1.0</td>\n",
              "    </tr>\n",
              "    <tr>\n",
              "      <th>123</th>\n",
              "      <td>124</td>\n",
              "      <td>1</td>\n",
              "      <td>2</td>\n",
              "      <td>Webber, Miss. Susan</td>\n",
              "      <td>female</td>\n",
              "      <td>32.5</td>\n",
              "      <td>0</td>\n",
              "      <td>0</td>\n",
              "      <td>27267</td>\n",
              "      <td>13.0000</td>\n",
              "      <td>E101</td>\n",
              "      <td>S</td>\n",
              "      <td>1</td>\n",
              "      <td>1.0</td>\n",
              "    </tr>\n",
              "    <tr>\n",
              "      <th>124</th>\n",
              "      <td>125</td>\n",
              "      <td>0</td>\n",
              "      <td>1</td>\n",
              "      <td>White, Mr. Percival Wayland</td>\n",
              "      <td>male</td>\n",
              "      <td>54.0</td>\n",
              "      <td>0</td>\n",
              "      <td>1</td>\n",
              "      <td>35281</td>\n",
              "      <td>77.2875</td>\n",
              "      <td>D26</td>\n",
              "      <td>S</td>\n",
              "      <td>1</td>\n",
              "      <td>1.0</td>\n",
              "    </tr>\n",
              "    <tr>\n",
              "      <th>125</th>\n",
              "      <td>126</td>\n",
              "      <td>1</td>\n",
              "      <td>3</td>\n",
              "      <td>Nicola-Yarred, Master. Elias</td>\n",
              "      <td>male</td>\n",
              "      <td>12.0</td>\n",
              "      <td>1</td>\n",
              "      <td>0</td>\n",
              "      <td>2651</td>\n",
              "      <td>11.2417</td>\n",
              "      <td>NaN</td>\n",
              "      <td>C</td>\n",
              "      <td>1</td>\n",
              "      <td>0.0</td>\n",
              "    </tr>\n",
              "    <tr>\n",
              "      <th>127</th>\n",
              "      <td>128</td>\n",
              "      <td>1</td>\n",
              "      <td>3</td>\n",
              "      <td>Madsen, Mr. Fridtjof Arne</td>\n",
              "      <td>male</td>\n",
              "      <td>24.0</td>\n",
              "      <td>0</td>\n",
              "      <td>0</td>\n",
              "      <td>C 17369</td>\n",
              "      <td>7.1417</td>\n",
              "      <td>NaN</td>\n",
              "      <td>S</td>\n",
              "      <td>1</td>\n",
              "      <td>1.0</td>\n",
              "    </tr>\n",
              "  </tbody>\n",
              "</table>\n",
              "<p>100 rows × 14 columns</p>\n",
              "</div>"
            ],
            "text/plain": [
              "     PassengerId  Survived  Pclass  ... Embarked count_pass  adult\n",
              "0              1         0       3  ...        S          1    1.0\n",
              "1              2         1       1  ...        C          1    1.0\n",
              "2              3         1       3  ...        S          1    1.0\n",
              "3              4         1       1  ...        S          1    1.0\n",
              "4              5         0       3  ...        S          1    1.0\n",
              "..           ...       ...     ...  ...      ...        ...    ...\n",
              "122          123         0       2  ...        C          1    1.0\n",
              "123          124         1       2  ...        S          1    1.0\n",
              "124          125         0       1  ...        S          1    1.0\n",
              "125          126         1       3  ...        C          1    0.0\n",
              "127          128         1       3  ...        S          1    1.0\n",
              "\n",
              "[100 rows x 14 columns]"
            ]
          },
          "metadata": {
            "tags": []
          },
          "execution_count": 6
        }
      ]
    },
    {
      "cell_type": "code",
      "metadata": {
        "colab": {
          "base_uri": "https://localhost:8080/",
          "height": 110
        },
        "id": "1RuCdFLUsmTt",
        "outputId": "45569917-49e1-49ed-a046-46436709060c"
      },
      "source": [
        "#It certainly looks like children (54%) were preferred over Adults (38%) Let's look at the numbers and percentages in graphs\r\n",
        "age_df =titatinc_age_emabark.groupby('adult',as_index=False).agg({'Survived':sum,'count_pass':sum})\r\n",
        "age_df['survival_rate']=age_df['Survived']/age_df['count_pass']\r\n",
        "age_df.head()"
      ],
      "execution_count": 7,
      "outputs": [
        {
          "output_type": "execute_result",
          "data": {
            "text/html": [
              "<div>\n",
              "<style scoped>\n",
              "    .dataframe tbody tr th:only-of-type {\n",
              "        vertical-align: middle;\n",
              "    }\n",
              "\n",
              "    .dataframe tbody tr th {\n",
              "        vertical-align: top;\n",
              "    }\n",
              "\n",
              "    .dataframe thead th {\n",
              "        text-align: right;\n",
              "    }\n",
              "</style>\n",
              "<table border=\"1\" class=\"dataframe\">\n",
              "  <thead>\n",
              "    <tr style=\"text-align: right;\">\n",
              "      <th></th>\n",
              "      <th>adult</th>\n",
              "      <th>Survived</th>\n",
              "      <th>count_pass</th>\n",
              "      <th>survival_rate</th>\n",
              "    </tr>\n",
              "  </thead>\n",
              "  <tbody>\n",
              "    <tr>\n",
              "      <th>0</th>\n",
              "      <td>0.0</td>\n",
              "      <td>61</td>\n",
              "      <td>113</td>\n",
              "      <td>0.539823</td>\n",
              "    </tr>\n",
              "    <tr>\n",
              "      <th>1</th>\n",
              "      <td>1.0</td>\n",
              "      <td>227</td>\n",
              "      <td>599</td>\n",
              "      <td>0.378965</td>\n",
              "    </tr>\n",
              "  </tbody>\n",
              "</table>\n",
              "</div>"
            ],
            "text/plain": [
              "   adult  Survived  count_pass  survival_rate\n",
              "0    0.0        61         113       0.539823\n",
              "1    1.0       227         599       0.378965"
            ]
          },
          "metadata": {
            "tags": []
          },
          "execution_count": 7
        }
      ]
    },
    {
      "cell_type": "code",
      "metadata": {
        "colab": {
          "base_uri": "https://localhost:8080/",
          "height": 329
        },
        "id": "vj89kpW5tX_1",
        "outputId": "ad755851-b644-4ee8-8070-83e23e0ebd35"
      },
      "source": [
        "age_df.plot.bar(x='adult',y=['Survived','count_pass'])\r\n",
        "plt.title('Impact of age on Survival')\r\n",
        "plt.xlabel('Age')\r\n",
        "plt.ylabel('# Of Survived')\r\n",
        "plt.xticks(range(len(age_df)),['Child','Adult'])\r\n",
        "\r\n",
        "def create_value_labels(list_data,decimals,x_adjust,y_adjust):\r\n",
        "  for x,y in enumerate(list_data):\r\n",
        "    plt.text(x+x_adjust,y+y_adjust,round(list_data[x],decimals))\r\n",
        "\r\n",
        "create_value_labels(list(age_df['Survived']),0,-0.18,-50)\r\n",
        "create_value_labels(list(age_df['count_pass']),0,0.10,-50)\r\n",
        "\r\n",
        "plt.show"
      ],
      "execution_count": 8,
      "outputs": [
        {
          "output_type": "execute_result",
          "data": {
            "text/plain": [
              "<function matplotlib.pyplot.show>"
            ]
          },
          "metadata": {
            "tags": []
          },
          "execution_count": 8
        },
        {
          "output_type": "display_data",
          "data": {
            "image/png": "[encoded data removed]",
            "text/plain": [
              "<Figure size 432x288 with 1 Axes>"
            ]
          },
          "metadata": {
            "tags": [],
            "needs_background": "light"
          }
        }
      ]
    },
    {
      "cell_type": "code",
      "metadata": {
        "colab": {
          "base_uri": "https://localhost:8080/",
          "height": 365
        },
        "id": "LMmBYKjTw-pU",
        "outputId": "a8e2dee2-6d1f-4108-eb55-f004c7398f59"
      },
      "source": [
        "age_df_list =list(age_df['survival_rate'])\r\n",
        "print(age_df['survival_rate'])\r\n",
        "plt.bar(range(len(age_df_list)),age_df_list)\r\n",
        "plt.title('Survival rate between adults and children')\r\n",
        "plt.xlabel('Age')\r\n",
        "plt.ylabel('# Of Survived')\r\n",
        "plt.xticks(range(len(age_df)),['Child','Adult'])\r\n",
        "\r\n",
        "def create_value_labels(list_data,decimals,x_adjust,y_adjust):\r\n",
        "  for x,y in enumerate(list_data):\r\n",
        "    plt.text(x+x_adjust,y+y_adjust,round(list_data[x],decimals))\r\n",
        "\r\n",
        "create_value_labels(list(age_df['survival_rate']),2,-0.10,-0.10)\r\n",
        "\r\n",
        "\r\n",
        "plt.show"
      ],
      "execution_count": 9,
      "outputs": [
        {
          "output_type": "stream",
          "text": [
            "0    0.539823\n",
            "1    0.378965\n",
            "Name: survival_rate, dtype: float64\n"
          ],
          "name": "stdout"
        },
        {
          "output_type": "execute_result",
          "data": {
            "text/plain": [
              "<function matplotlib.pyplot.show>"
            ]
          },
          "metadata": {
            "tags": []
          },
          "execution_count": 9
        },
        {
          "output_type": "display_data",
          "data": {
            "image/png": "[encoded data removed]",
            "text/plain": [
              "<Figure size 432x288 with 1 Axes>"
            ]
          },
          "metadata": {
            "tags": [],
            "needs_background": "light"
          }
        }
      ]
    },
    {
      "cell_type": "code",
      "metadata": {
        "colab": {
          "base_uri": "https://localhost:8080/",
          "height": 283
        },
        "id": "wiklOp9hZkvJ",
        "outputId": "4e7ffb47-c36d-4ee8-fb34-a6ebf4fcecd1"
      },
      "source": [
        "#Let's see if there are any age enries in the dataframe which have a very small sample. These records must be removed as they skew the results\r\n",
        "titatinc_age_emabark['Age'].plot.hist(bins=100)"
      ],
      "execution_count": 10,
      "outputs": [
        {
          "output_type": "execute_result",
          "data": {
            "text/plain": [
              "<matplotlib.axes._subplots.AxesSubplot at 0x7fda6a378b38>"
            ]
          },
          "metadata": {
            "tags": []
          },
          "execution_count": 10
        },
        {
          "output_type": "display_data",
          "data": {
            "image/png": "[encoded data removed]",
            "text/plain": [
              "<Figure size 432x288 with 1 Axes>"
            ]
          },
          "metadata": {
            "tags": [],
            "needs_background": "light"
          }
        }
      ]
    },
    {
      "cell_type": "code",
      "metadata": {
        "id": "ai3FlJc0fPUd"
      },
      "source": [
        ""
      ],
      "execution_count": 10,
      "outputs": []
    },
    {
      "cell_type": "code",
      "metadata": {
        "id": "_e9CJ1Rjqg0u"
      },
      "source": [
        "age_drop_df=titatinc_age_emabark.groupby('Age')['count_pass'].sum().reset_index()\r\n",
        "\r\n"
      ],
      "execution_count": 11,
      "outputs": []
    },
    {
      "cell_type": "code",
      "metadata": {
        "colab": {
          "base_uri": "https://localhost:8080/",
          "height": 283
        },
        "id": "cVpTVCWix1ys",
        "outputId": "5a365002-ec68-45c3-830a-0e7c63e013c1"
      },
      "source": [
        "survived_data=titatinc_age_emabark.loc[titatinc_age_emabark['Survived']==1]\r\n",
        "survived_data['Age'].plot.hist(bins=100)"
      ],
      "execution_count": 12,
      "outputs": [
        {
          "output_type": "execute_result",
          "data": {
            "text/plain": [
              "<matplotlib.axes._subplots.AxesSubplot at 0x7fda6a162dd8>"
            ]
          },
          "metadata": {
            "tags": []
          },
          "execution_count": 12
        },
        {
          "output_type": "display_data",
          "data": {
            "image/png": "[encoded data removed]",
            "text/plain": [
              "<Figure size 432x288 with 1 Axes>"
            ]
          },
          "metadata": {
            "tags": [],
            "needs_background": "light"
          }
        }
      ]
    },
    {
      "cell_type": "code",
      "metadata": {
        "id": "ByLOX0Oi2Vub"
      },
      "source": [
        "v = titatinc_age_emabark[['Age','count_pass']]\r\n",
        "titanic_age_gt5=titatinc_age_emabark[v.replace(v.stack().value_counts()).gt(5).all(1)]"
      ],
      "execution_count": 13,
      "outputs": []
    },
    {
      "cell_type": "code",
      "metadata": {
        "colab": {
          "base_uri": "https://localhost:8080/",
          "height": 283
        },
        "id": "-4a76DF5fRWT",
        "outputId": "b90e25f7-7e0e-4b44-b62b-4e39f4af4ede"
      },
      "source": [
        "titanic_age_gt5['Age'].plot.hist(bins=100)"
      ],
      "execution_count": 15,
      "outputs": [
        {
          "output_type": "execute_result",
          "data": {
            "text/plain": [
              "<matplotlib.axes._subplots.AxesSubplot at 0x7fda69e37240>"
            ]
          },
          "metadata": {
            "tags": []
          },
          "execution_count": 15
        },
        {
          "output_type": "display_data",
          "data": {
            "image/png": "[encoded data removed]",
            "text/plain": [
              "<Figure size 432x288 with 1 Axes>"
            ]
          },
          "metadata": {
            "tags": [],
            "needs_background": "light"
          }
        }
      ]
    },
    {
      "cell_type": "code",
      "metadata": {
        "colab": {
          "base_uri": "https://localhost:8080/",
          "height": 1000
        },
        "id": "ww8TWLEczhUf",
        "outputId": "b3a5d716-d229-452c-9a50-52880c78fb73"
      },
      "source": [
        "titanic_age_gt5_survived = titanic_age_gt5.groupby('Age',as_index=False).agg({'count_pass':sum,'Survived':sum})\r\n",
        "titanic_age_gt5_survived['rate']=titanic_age_gt5_survived['Survived']/titanic_age_gt5_survived['count_pass']\r\n",
        "titanic_age_gt5_survived.head(50)"
      ],
      "execution_count": 20,
      "outputs": [
        {
          "output_type": "execute_result",
          "data": {
            "text/html": [
              "<div>\n",
              "<style scoped>\n",
              "    .dataframe tbody tr th:only-of-type {\n",
              "        vertical-align: middle;\n",
              "    }\n",
              "\n",
              "    .dataframe tbody tr th {\n",
              "        vertical-align: top;\n",
              "    }\n",
              "\n",
              "    .dataframe thead th {\n",
              "        text-align: right;\n",
              "    }\n",
              "</style>\n",
              "<table border=\"1\" class=\"dataframe\">\n",
              "  <thead>\n",
              "    <tr style=\"text-align: right;\">\n",
              "      <th></th>\n",
              "      <th>Age</th>\n",
              "      <th>count_pass</th>\n",
              "      <th>Survived</th>\n",
              "      <th>rate</th>\n",
              "    </tr>\n",
              "  </thead>\n",
              "  <tbody>\n",
              "    <tr>\n",
              "      <th>0</th>\n",
              "      <td>1.0</td>\n",
              "      <td>7</td>\n",
              "      <td>5</td>\n",
              "      <td>0.714286</td>\n",
              "    </tr>\n",
              "    <tr>\n",
              "      <th>1</th>\n",
              "      <td>2.0</td>\n",
              "      <td>10</td>\n",
              "      <td>3</td>\n",
              "      <td>0.300000</td>\n",
              "    </tr>\n",
              "    <tr>\n",
              "      <th>2</th>\n",
              "      <td>3.0</td>\n",
              "      <td>6</td>\n",
              "      <td>5</td>\n",
              "      <td>0.833333</td>\n",
              "    </tr>\n",
              "    <tr>\n",
              "      <th>3</th>\n",
              "      <td>4.0</td>\n",
              "      <td>10</td>\n",
              "      <td>7</td>\n",
              "      <td>0.700000</td>\n",
              "    </tr>\n",
              "    <tr>\n",
              "      <th>4</th>\n",
              "      <td>9.0</td>\n",
              "      <td>8</td>\n",
              "      <td>2</td>\n",
              "      <td>0.250000</td>\n",
              "    </tr>\n",
              "    <tr>\n",
              "      <th>5</th>\n",
              "      <td>14.0</td>\n",
              "      <td>6</td>\n",
              "      <td>3</td>\n",
              "      <td>0.500000</td>\n",
              "    </tr>\n",
              "    <tr>\n",
              "      <th>6</th>\n",
              "      <td>16.0</td>\n",
              "      <td>17</td>\n",
              "      <td>6</td>\n",
              "      <td>0.352941</td>\n",
              "    </tr>\n",
              "    <tr>\n",
              "      <th>7</th>\n",
              "      <td>17.0</td>\n",
              "      <td>13</td>\n",
              "      <td>6</td>\n",
              "      <td>0.461538</td>\n",
              "    </tr>\n",
              "    <tr>\n",
              "      <th>8</th>\n",
              "      <td>18.0</td>\n",
              "      <td>26</td>\n",
              "      <td>9</td>\n",
              "      <td>0.346154</td>\n",
              "    </tr>\n",
              "    <tr>\n",
              "      <th>9</th>\n",
              "      <td>19.0</td>\n",
              "      <td>25</td>\n",
              "      <td>9</td>\n",
              "      <td>0.360000</td>\n",
              "    </tr>\n",
              "    <tr>\n",
              "      <th>10</th>\n",
              "      <td>20.0</td>\n",
              "      <td>15</td>\n",
              "      <td>3</td>\n",
              "      <td>0.200000</td>\n",
              "    </tr>\n",
              "    <tr>\n",
              "      <th>11</th>\n",
              "      <td>21.0</td>\n",
              "      <td>24</td>\n",
              "      <td>5</td>\n",
              "      <td>0.208333</td>\n",
              "    </tr>\n",
              "    <tr>\n",
              "      <th>12</th>\n",
              "      <td>22.0</td>\n",
              "      <td>27</td>\n",
              "      <td>11</td>\n",
              "      <td>0.407407</td>\n",
              "    </tr>\n",
              "    <tr>\n",
              "      <th>13</th>\n",
              "      <td>23.0</td>\n",
              "      <td>15</td>\n",
              "      <td>5</td>\n",
              "      <td>0.333333</td>\n",
              "    </tr>\n",
              "    <tr>\n",
              "      <th>14</th>\n",
              "      <td>24.0</td>\n",
              "      <td>30</td>\n",
              "      <td>15</td>\n",
              "      <td>0.500000</td>\n",
              "    </tr>\n",
              "    <tr>\n",
              "      <th>15</th>\n",
              "      <td>25.0</td>\n",
              "      <td>23</td>\n",
              "      <td>6</td>\n",
              "      <td>0.260870</td>\n",
              "    </tr>\n",
              "    <tr>\n",
              "      <th>16</th>\n",
              "      <td>26.0</td>\n",
              "      <td>18</td>\n",
              "      <td>6</td>\n",
              "      <td>0.333333</td>\n",
              "    </tr>\n",
              "    <tr>\n",
              "      <th>17</th>\n",
              "      <td>27.0</td>\n",
              "      <td>18</td>\n",
              "      <td>11</td>\n",
              "      <td>0.611111</td>\n",
              "    </tr>\n",
              "    <tr>\n",
              "      <th>18</th>\n",
              "      <td>28.0</td>\n",
              "      <td>25</td>\n",
              "      <td>7</td>\n",
              "      <td>0.280000</td>\n",
              "    </tr>\n",
              "    <tr>\n",
              "      <th>19</th>\n",
              "      <td>29.0</td>\n",
              "      <td>20</td>\n",
              "      <td>8</td>\n",
              "      <td>0.400000</td>\n",
              "    </tr>\n",
              "    <tr>\n",
              "      <th>20</th>\n",
              "      <td>30.0</td>\n",
              "      <td>25</td>\n",
              "      <td>10</td>\n",
              "      <td>0.400000</td>\n",
              "    </tr>\n",
              "    <tr>\n",
              "      <th>21</th>\n",
              "      <td>31.0</td>\n",
              "      <td>17</td>\n",
              "      <td>8</td>\n",
              "      <td>0.470588</td>\n",
              "    </tr>\n",
              "    <tr>\n",
              "      <th>22</th>\n",
              "      <td>32.0</td>\n",
              "      <td>18</td>\n",
              "      <td>9</td>\n",
              "      <td>0.500000</td>\n",
              "    </tr>\n",
              "    <tr>\n",
              "      <th>23</th>\n",
              "      <td>33.0</td>\n",
              "      <td>15</td>\n",
              "      <td>6</td>\n",
              "      <td>0.400000</td>\n",
              "    </tr>\n",
              "    <tr>\n",
              "      <th>24</th>\n",
              "      <td>34.0</td>\n",
              "      <td>15</td>\n",
              "      <td>6</td>\n",
              "      <td>0.400000</td>\n",
              "    </tr>\n",
              "    <tr>\n",
              "      <th>25</th>\n",
              "      <td>35.0</td>\n",
              "      <td>18</td>\n",
              "      <td>11</td>\n",
              "      <td>0.611111</td>\n",
              "    </tr>\n",
              "    <tr>\n",
              "      <th>26</th>\n",
              "      <td>36.0</td>\n",
              "      <td>22</td>\n",
              "      <td>11</td>\n",
              "      <td>0.500000</td>\n",
              "    </tr>\n",
              "    <tr>\n",
              "      <th>27</th>\n",
              "      <td>37.0</td>\n",
              "      <td>6</td>\n",
              "      <td>1</td>\n",
              "      <td>0.166667</td>\n",
              "    </tr>\n",
              "    <tr>\n",
              "      <th>28</th>\n",
              "      <td>38.0</td>\n",
              "      <td>10</td>\n",
              "      <td>4</td>\n",
              "      <td>0.400000</td>\n",
              "    </tr>\n",
              "    <tr>\n",
              "      <th>29</th>\n",
              "      <td>39.0</td>\n",
              "      <td>14</td>\n",
              "      <td>5</td>\n",
              "      <td>0.357143</td>\n",
              "    </tr>\n",
              "    <tr>\n",
              "      <th>30</th>\n",
              "      <td>40.0</td>\n",
              "      <td>13</td>\n",
              "      <td>6</td>\n",
              "      <td>0.461538</td>\n",
              "    </tr>\n",
              "    <tr>\n",
              "      <th>31</th>\n",
              "      <td>41.0</td>\n",
              "      <td>6</td>\n",
              "      <td>2</td>\n",
              "      <td>0.333333</td>\n",
              "    </tr>\n",
              "    <tr>\n",
              "      <th>32</th>\n",
              "      <td>42.0</td>\n",
              "      <td>13</td>\n",
              "      <td>6</td>\n",
              "      <td>0.461538</td>\n",
              "    </tr>\n",
              "    <tr>\n",
              "      <th>33</th>\n",
              "      <td>44.0</td>\n",
              "      <td>9</td>\n",
              "      <td>3</td>\n",
              "      <td>0.333333</td>\n",
              "    </tr>\n",
              "    <tr>\n",
              "      <th>34</th>\n",
              "      <td>45.0</td>\n",
              "      <td>12</td>\n",
              "      <td>5</td>\n",
              "      <td>0.416667</td>\n",
              "    </tr>\n",
              "    <tr>\n",
              "      <th>35</th>\n",
              "      <td>47.0</td>\n",
              "      <td>9</td>\n",
              "      <td>1</td>\n",
              "      <td>0.111111</td>\n",
              "    </tr>\n",
              "    <tr>\n",
              "      <th>36</th>\n",
              "      <td>48.0</td>\n",
              "      <td>9</td>\n",
              "      <td>6</td>\n",
              "      <td>0.666667</td>\n",
              "    </tr>\n",
              "    <tr>\n",
              "      <th>37</th>\n",
              "      <td>49.0</td>\n",
              "      <td>6</td>\n",
              "      <td>4</td>\n",
              "      <td>0.666667</td>\n",
              "    </tr>\n",
              "    <tr>\n",
              "      <th>38</th>\n",
              "      <td>50.0</td>\n",
              "      <td>10</td>\n",
              "      <td>5</td>\n",
              "      <td>0.500000</td>\n",
              "    </tr>\n",
              "    <tr>\n",
              "      <th>39</th>\n",
              "      <td>51.0</td>\n",
              "      <td>7</td>\n",
              "      <td>2</td>\n",
              "      <td>0.285714</td>\n",
              "    </tr>\n",
              "    <tr>\n",
              "      <th>40</th>\n",
              "      <td>52.0</td>\n",
              "      <td>6</td>\n",
              "      <td>3</td>\n",
              "      <td>0.500000</td>\n",
              "    </tr>\n",
              "    <tr>\n",
              "      <th>41</th>\n",
              "      <td>54.0</td>\n",
              "      <td>8</td>\n",
              "      <td>3</td>\n",
              "      <td>0.375000</td>\n",
              "    </tr>\n",
              "  </tbody>\n",
              "</table>\n",
              "</div>"
            ],
            "text/plain": [
              "     Age  count_pass  Survived      rate\n",
              "0    1.0           7         5  0.714286\n",
              "1    2.0          10         3  0.300000\n",
              "2    3.0           6         5  0.833333\n",
              "3    4.0          10         7  0.700000\n",
              "4    9.0           8         2  0.250000\n",
              "5   14.0           6         3  0.500000\n",
              "6   16.0          17         6  0.352941\n",
              "7   17.0          13         6  0.461538\n",
              "8   18.0          26         9  0.346154\n",
              "9   19.0          25         9  0.360000\n",
              "10  20.0          15         3  0.200000\n",
              "11  21.0          24         5  0.208333\n",
              "12  22.0          27        11  0.407407\n",
              "13  23.0          15         5  0.333333\n",
              "14  24.0          30        15  0.500000\n",
              "15  25.0          23         6  0.260870\n",
              "16  26.0          18         6  0.333333\n",
              "17  27.0          18        11  0.611111\n",
              "18  28.0          25         7  0.280000\n",
              "19  29.0          20         8  0.400000\n",
              "20  30.0          25        10  0.400000\n",
              "21  31.0          17         8  0.470588\n",
              "22  32.0          18         9  0.500000\n",
              "23  33.0          15         6  0.400000\n",
              "24  34.0          15         6  0.400000\n",
              "25  35.0          18        11  0.611111\n",
              "26  36.0          22        11  0.500000\n",
              "27  37.0           6         1  0.166667\n",
              "28  38.0          10         4  0.400000\n",
              "29  39.0          14         5  0.357143\n",
              "30  40.0          13         6  0.461538\n",
              "31  41.0           6         2  0.333333\n",
              "32  42.0          13         6  0.461538\n",
              "33  44.0           9         3  0.333333\n",
              "34  45.0          12         5  0.416667\n",
              "35  47.0           9         1  0.111111\n",
              "36  48.0           9         6  0.666667\n",
              "37  49.0           6         4  0.666667\n",
              "38  50.0          10         5  0.500000\n",
              "39  51.0           7         2  0.285714\n",
              "40  52.0           6         3  0.500000\n",
              "41  54.0           8         3  0.375000"
            ]
          },
          "metadata": {
            "tags": []
          },
          "execution_count": 20
        }
      ]
    },
    {
      "cell_type": "code",
      "metadata": {
        "colab": {
          "base_uri": "https://localhost:8080/",
          "height": 268
        },
        "id": "Ft85uywQ0fA7",
        "outputId": "9401eae5-7c86-49ad-82f2-14bee0228772"
      },
      "source": [
        "titanic_age_gt5_survived.plot.scatter('Age','rate',s=20,c='count_pass',colormap='viridis')\r\n",
        "plt.title('Impact of Age of Survival Rate')\r\n",
        "plt.xlabel('Age')\r\n",
        "plt.ylabel('Survival Rate')\r\n",
        "#plt.xticks(ticks=titanic_age_gt5_survived['Age'])\r\n",
        "\r\n",
        "plt.show()"
      ],
      "execution_count": 41,
      "outputs": [
        {
          "output_type": "display_data",
          "data": {
            "image/png": "[encoded data removed]",
            "text/plain": [
              "<Figure size 432x288 with 2 Axes>"
            ]
          },
          "metadata": {
            "tags": [],
            "needs_background": "light"
          }
        }
      ]
    },
    {
      "cell_type": "code",
      "metadata": {
        "colab": {
          "base_uri": "https://localhost:8080/",
          "height": 141
        },
        "id": "DXE70krU40XY",
        "outputId": "ff71430e-2edd-42a7-c868-e690fac22bd0"
      },
      "source": [
        "titanic_pclass = titatinc_age_emabark.groupby('Pclass',as_index=False).agg({'count_pass':sum,'Survived':sum})\r\n",
        "titanic_pclass['rate']=titanic_pclass['Survived']/titanic_pclass['count_pass']\r\n",
        "titanic_pclass.head()\r\n",
        "#Passenger Class seems to be a huge parameter for Survival. Almost 65% of the 1st class passengers survived where as only 23% of 3rd class passengers survived.\r\n",
        "#now lets add in Age to the analysis"
      ],
      "execution_count": 44,
      "outputs": [
        {
          "output_type": "execute_result",
          "data": {
            "text/html": [
              "<div>\n",
              "<style scoped>\n",
              "    .dataframe tbody tr th:only-of-type {\n",
              "        vertical-align: middle;\n",
              "    }\n",
              "\n",
              "    .dataframe tbody tr th {\n",
              "        vertical-align: top;\n",
              "    }\n",
              "\n",
              "    .dataframe thead th {\n",
              "        text-align: right;\n",
              "    }\n",
              "</style>\n",
              "<table border=\"1\" class=\"dataframe\">\n",
              "  <thead>\n",
              "    <tr style=\"text-align: right;\">\n",
              "      <th></th>\n",
              "      <th>Pclass</th>\n",
              "      <th>count_pass</th>\n",
              "      <th>Survived</th>\n",
              "      <th>rate</th>\n",
              "    </tr>\n",
              "  </thead>\n",
              "  <tbody>\n",
              "    <tr>\n",
              "      <th>0</th>\n",
              "      <td>1</td>\n",
              "      <td>184</td>\n",
              "      <td>120</td>\n",
              "      <td>0.652174</td>\n",
              "    </tr>\n",
              "    <tr>\n",
              "      <th>1</th>\n",
              "      <td>2</td>\n",
              "      <td>173</td>\n",
              "      <td>83</td>\n",
              "      <td>0.479769</td>\n",
              "    </tr>\n",
              "    <tr>\n",
              "      <th>2</th>\n",
              "      <td>3</td>\n",
              "      <td>355</td>\n",
              "      <td>85</td>\n",
              "      <td>0.239437</td>\n",
              "    </tr>\n",
              "  </tbody>\n",
              "</table>\n",
              "</div>"
            ],
            "text/plain": [
              "   Pclass  count_pass  Survived      rate\n",
              "0       1         184       120  0.652174\n",
              "1       2         173        83  0.479769\n",
              "2       3         355        85  0.239437"
            ]
          },
          "metadata": {
            "tags": []
          },
          "execution_count": 44
        }
      ]
    },
    {
      "cell_type": "code",
      "metadata": {
        "colab": {
          "base_uri": "https://localhost:8080/",
          "height": 233
        },
        "id": "pjq3wQwG56Or",
        "outputId": "c0e0f481-5899-440e-fa35-afb2f69627ed"
      },
      "source": [
        "titanic_pclass_age =titatinc_age_emabark.groupby(['Pclass','adult'],as_index=False).agg({'count_pass':sum,'Survived':sum})\r\n",
        "titanic_pclass_age['rate']=titanic_pclass_age['Survived']/titanic_pclass_age['count_pass']\r\n",
        "titanic_pclass_age.head(10)"
      ],
      "execution_count": 46,
      "outputs": [
        {
          "output_type": "execute_result",
          "data": {
            "text/html": [
              "<div>\n",
              "<style scoped>\n",
              "    .dataframe tbody tr th:only-of-type {\n",
              "        vertical-align: middle;\n",
              "    }\n",
              "\n",
              "    .dataframe tbody tr th {\n",
              "        vertical-align: top;\n",
              "    }\n",
              "\n",
              "    .dataframe thead th {\n",
              "        text-align: right;\n",
              "    }\n",
              "</style>\n",
              "<table border=\"1\" class=\"dataframe\">\n",
              "  <thead>\n",
              "    <tr style=\"text-align: right;\">\n",
              "      <th></th>\n",
              "      <th>Pclass</th>\n",
              "      <th>adult</th>\n",
              "      <th>count_pass</th>\n",
              "      <th>Survived</th>\n",
              "      <th>rate</th>\n",
              "    </tr>\n",
              "  </thead>\n",
              "  <tbody>\n",
              "    <tr>\n",
              "      <th>0</th>\n",
              "      <td>1</td>\n",
              "      <td>0.0</td>\n",
              "      <td>12</td>\n",
              "      <td>11</td>\n",
              "      <td>0.916667</td>\n",
              "    </tr>\n",
              "    <tr>\n",
              "      <th>1</th>\n",
              "      <td>1</td>\n",
              "      <td>1.0</td>\n",
              "      <td>172</td>\n",
              "      <td>109</td>\n",
              "      <td>0.633721</td>\n",
              "    </tr>\n",
              "    <tr>\n",
              "      <th>2</th>\n",
              "      <td>2</td>\n",
              "      <td>0.0</td>\n",
              "      <td>23</td>\n",
              "      <td>21</td>\n",
              "      <td>0.913043</td>\n",
              "    </tr>\n",
              "    <tr>\n",
              "      <th>3</th>\n",
              "      <td>2</td>\n",
              "      <td>1.0</td>\n",
              "      <td>150</td>\n",
              "      <td>62</td>\n",
              "      <td>0.413333</td>\n",
              "    </tr>\n",
              "    <tr>\n",
              "      <th>4</th>\n",
              "      <td>3</td>\n",
              "      <td>0.0</td>\n",
              "      <td>78</td>\n",
              "      <td>29</td>\n",
              "      <td>0.371795</td>\n",
              "    </tr>\n",
              "    <tr>\n",
              "      <th>5</th>\n",
              "      <td>3</td>\n",
              "      <td>1.0</td>\n",
              "      <td>277</td>\n",
              "      <td>56</td>\n",
              "      <td>0.202166</td>\n",
              "    </tr>\n",
              "  </tbody>\n",
              "</table>\n",
              "</div>"
            ],
            "text/plain": [
              "   Pclass  adult  count_pass  Survived      rate\n",
              "0       1    0.0          12        11  0.916667\n",
              "1       1    1.0         172       109  0.633721\n",
              "2       2    0.0          23        21  0.913043\n",
              "3       2    1.0         150        62  0.413333\n",
              "4       3    0.0          78        29  0.371795\n",
              "5       3    1.0         277        56  0.202166"
            ]
          },
          "metadata": {
            "tags": []
          },
          "execution_count": 46
        }
      ]
    },
    {
      "cell_type": "code",
      "metadata": {
        "colab": {
          "base_uri": "https://localhost:8080/",
          "height": 293
        },
        "id": "hOLdxpxY6C2Q",
        "outputId": "27e5944e-8731-41d6-e67e-772235e92d72"
      },
      "source": [
        "titanic_pclass_age_pivot=titanic_pclass_age.pivot_table(values='rate',columns='adult',index='Pclass')\r\n",
        "titanic_pclass_age_pivot.head()\r\n",
        "\r\n",
        "titanic_pclass_age_pivot.plot.bar()\r\n",
        "\r\n",
        "#Chances of survival seem to be over 90% if you are a child in Passenger Class 1 and 2. This explains that Children with higher SES were preferred over everyone else in comparison"
      ],
      "execution_count": 65,
      "outputs": [
        {
          "output_type": "execute_result",
          "data": {
            "text/plain": [
              "<matplotlib.axes._subplots.AxesSubplot at 0x7fda6147a6a0>"
            ]
          },
          "metadata": {
            "tags": []
          },
          "execution_count": 65
        },
        {
          "output_type": "display_data",
          "data": {
            "image/png": "[encoded data removed]",
            "text/plain": [
              "<Figure size 432x288 with 1 Axes>"
            ]
          },
          "metadata": {
            "tags": [],
            "needs_background": "light"
          }
        }
      ]
    }
  ]
}